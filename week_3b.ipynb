{
 "cells": [
  {
   "cell_type": "code",
   "execution_count": 2,
   "metadata": {},
   "outputs": [
    {
     "name": "stdout",
     "output_type": "stream",
     "text": [
      "hello world\n",
      "helmi\n"
     ]
    }
   ],
   "source": [
    "print(\"hello world\")\n",
    "print(\"helmi\")\n",
    "\n",
    "\n",
    "\n",
    "\n",
    "\n",
    "\n"
   ]
  },
  {
   "cell_type": "code",
   "execution_count": 7,
   "metadata": {},
   "outputs": [
    {
     "name": "stdout",
     "output_type": "stream",
     "text": [
      "True OR False OR False = True\n"
     ]
    }
   ],
   "source": [
    "angka = float(input(\"Enter Number\"))\n",
    "\n",
    "a = a<5\n",
    "b = 10<b<15\n",
    "c = c>20\n",
    "d = a or b or c\n",
    "\n",
    "print(a,'OR',b,'OR',c, '=', d)\n",
    "\n",
    "\n"
   ]
  },
  {
   "cell_type": "code",
   "execution_count": 6,
   "metadata": {},
   "outputs": [
    {
     "name": "stdout",
     "output_type": "stream",
     "text": [
      "False OR False = False\n",
      "False OR True  = True\n",
      "True  OR False = True\n",
      "True  OR True  = True\n"
     ]
    }
   ],
   "source": [
    "# OR (jika salah satu true, maka hasilnya adalah true)\n",
    "a = False\n",
    "b = False\n",
    "c = a or b\n",
    "print(a,'OR',b,'=',c)\n",
    "a = False\n",
    "b = True\n",
    "c = a or b\n",
    "print(a,'OR',b,' =',c)\n",
    "a = True\n",
    "b = False\n",
    "c = a or b\n",
    "print(a,' OR',b,'=',c)\n",
    "a = True\n",
    "b = True\n",
    "c = a or b\n",
    "print(a,' OR',b,' =',c)"
   ]
  }
 ],
 "metadata": {
  "kernelspec": {
   "display_name": "Python 3",
   "language": "python",
   "name": "python3"
  },
  "language_info": {
   "codemirror_mode": {
    "name": "ipython",
    "version": 3
   },
   "file_extension": ".py",
   "mimetype": "text/x-python",
   "name": "python",
   "nbconvert_exporter": "python",
   "pygments_lexer": "ipython3",
   "version": "3.10.8"
  },
  "orig_nbformat": 4
 },
 "nbformat": 4,
 "nbformat_minor": 2
}
